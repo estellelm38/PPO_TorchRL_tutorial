{
 "cells": [
  {
   "cell_type": "code",
   "execution_count": 1,
   "id": "16f96681",
   "metadata": {
    "scrolled": true
   },
   "outputs": [
    {
     "name": "stdout",
     "output_type": "stream",
     "text": [
      "\u001b[33mWARNING: Ignoring invalid distribution -vidia-nccl-cu12 (/home/estelle/miniconda3/envs/rlnavenv/lib/python3.8/site-packages)\u001b[0m\u001b[33m\n",
      "\u001b[0mRequirement already satisfied: torch==2.2.1 in /home/estelle/miniconda3/envs/rlnavenv/lib/python3.8/site-packages (2.2.1)\n",
      "Requirement already satisfied: filelock in /home/estelle/miniconda3/envs/rlnavenv/lib/python3.8/site-packages (from torch==2.2.1) (3.13.1)\n",
      "Requirement already satisfied: typing-extensions>=4.8.0 in /home/estelle/miniconda3/envs/rlnavenv/lib/python3.8/site-packages (from torch==2.2.1) (4.10.0)\n",
      "Requirement already satisfied: sympy in /home/estelle/miniconda3/envs/rlnavenv/lib/python3.8/site-packages (from torch==2.2.1) (1.12)\n",
      "Requirement already satisfied: networkx in /home/estelle/miniconda3/envs/rlnavenv/lib/python3.8/site-packages (from torch==2.2.1) (3.1)\n",
      "Requirement already satisfied: jinja2 in /home/estelle/miniconda3/envs/rlnavenv/lib/python3.8/site-packages (from torch==2.2.1) (3.1.2)\n",
      "Requirement already satisfied: fsspec in /home/estelle/miniconda3/envs/rlnavenv/lib/python3.8/site-packages (from torch==2.2.1) (2023.12.1)\n",
      "Requirement already satisfied: nvidia-cuda-nvrtc-cu12==12.1.105 in /home/estelle/miniconda3/envs/rlnavenv/lib/python3.8/site-packages (from torch==2.2.1) (12.1.105)\n",
      "Requirement already satisfied: nvidia-cuda-runtime-cu12==12.1.105 in /home/estelle/miniconda3/envs/rlnavenv/lib/python3.8/site-packages (from torch==2.2.1) (12.1.105)\n",
      "Requirement already satisfied: nvidia-cuda-cupti-cu12==12.1.105 in /home/estelle/miniconda3/envs/rlnavenv/lib/python3.8/site-packages (from torch==2.2.1) (12.1.105)\n",
      "Requirement already satisfied: nvidia-cudnn-cu12==8.9.2.26 in /home/estelle/miniconda3/envs/rlnavenv/lib/python3.8/site-packages (from torch==2.2.1) (8.9.2.26)\n",
      "Requirement already satisfied: nvidia-cublas-cu12==12.1.3.1 in /home/estelle/miniconda3/envs/rlnavenv/lib/python3.8/site-packages (from torch==2.2.1) (12.1.3.1)\n",
      "Requirement already satisfied: nvidia-cufft-cu12==11.0.2.54 in /home/estelle/miniconda3/envs/rlnavenv/lib/python3.8/site-packages (from torch==2.2.1) (11.0.2.54)\n",
      "Requirement already satisfied: nvidia-curand-cu12==10.3.2.106 in /home/estelle/miniconda3/envs/rlnavenv/lib/python3.8/site-packages (from torch==2.2.1) (10.3.2.106)\n",
      "Requirement already satisfied: nvidia-cusolver-cu12==11.4.5.107 in /home/estelle/miniconda3/envs/rlnavenv/lib/python3.8/site-packages (from torch==2.2.1) (11.4.5.107)\n",
      "Requirement already satisfied: nvidia-cusparse-cu12==12.1.0.106 in /home/estelle/miniconda3/envs/rlnavenv/lib/python3.8/site-packages (from torch==2.2.1) (12.1.0.106)\n",
      "Requirement already satisfied: nvidia-nccl-cu12==2.19.3 in /home/estelle/miniconda3/envs/rlnavenv/lib/python3.8/site-packages (from torch==2.2.1) (2.19.3)\n",
      "Requirement already satisfied: nvidia-nvtx-cu12==12.1.105 in /home/estelle/miniconda3/envs/rlnavenv/lib/python3.8/site-packages (from torch==2.2.1) (12.1.105)\n",
      "Requirement already satisfied: triton==2.2.0 in /home/estelle/miniconda3/envs/rlnavenv/lib/python3.8/site-packages (from torch==2.2.1) (2.2.0)\n",
      "Requirement already satisfied: nvidia-nvjitlink-cu12 in /home/estelle/miniconda3/envs/rlnavenv/lib/python3.8/site-packages (from nvidia-cusolver-cu12==11.4.5.107->torch==2.2.1) (12.3.101)\n",
      "Requirement already satisfied: MarkupSafe>=2.0 in /home/estelle/miniconda3/envs/rlnavenv/lib/python3.8/site-packages (from jinja2->torch==2.2.1) (2.1.3)\n",
      "Requirement already satisfied: mpmath>=0.19 in /home/estelle/miniconda3/envs/rlnavenv/lib/python3.8/site-packages (from sympy->torch==2.2.1) (1.3.0)\n",
      "\u001b[33mWARNING: Ignoring invalid distribution -vidia-nccl-cu12 (/home/estelle/miniconda3/envs/rlnavenv/lib/python3.8/site-packages)\u001b[0m\u001b[33m\n",
      "\u001b[0m\u001b[33mWARNING: Ignoring invalid distribution -vidia-nccl-cu12 (/home/estelle/miniconda3/envs/rlnavenv/lib/python3.8/site-packages)\u001b[0m\u001b[33m\n",
      "\u001b[0mRequirement already satisfied: tensordict in /home/estelle/miniconda3/envs/rlnavenv/lib/python3.8/site-packages (0.3.1)\n",
      "Requirement already satisfied: torch>=2.2.1 in /home/estelle/miniconda3/envs/rlnavenv/lib/python3.8/site-packages (from tensordict) (2.2.1)\n",
      "Requirement already satisfied: numpy in /home/estelle/miniconda3/envs/rlnavenv/lib/python3.8/site-packages (from tensordict) (1.22.4)\n",
      "Requirement already satisfied: cloudpickle in /home/estelle/miniconda3/envs/rlnavenv/lib/python3.8/site-packages (from tensordict) (3.0.0)\n",
      "Requirement already satisfied: filelock in /home/estelle/miniconda3/envs/rlnavenv/lib/python3.8/site-packages (from torch>=2.2.1->tensordict) (3.13.1)\n",
      "Requirement already satisfied: typing-extensions>=4.8.0 in /home/estelle/miniconda3/envs/rlnavenv/lib/python3.8/site-packages (from torch>=2.2.1->tensordict) (4.10.0)\n",
      "Requirement already satisfied: sympy in /home/estelle/miniconda3/envs/rlnavenv/lib/python3.8/site-packages (from torch>=2.2.1->tensordict) (1.12)\n",
      "Requirement already satisfied: networkx in /home/estelle/miniconda3/envs/rlnavenv/lib/python3.8/site-packages (from torch>=2.2.1->tensordict) (3.1)\n",
      "Requirement already satisfied: jinja2 in /home/estelle/miniconda3/envs/rlnavenv/lib/python3.8/site-packages (from torch>=2.2.1->tensordict) (3.1.2)\n",
      "Requirement already satisfied: fsspec in /home/estelle/miniconda3/envs/rlnavenv/lib/python3.8/site-packages (from torch>=2.2.1->tensordict) (2023.12.1)\n",
      "Requirement already satisfied: nvidia-cuda-nvrtc-cu12==12.1.105 in /home/estelle/miniconda3/envs/rlnavenv/lib/python3.8/site-packages (from torch>=2.2.1->tensordict) (12.1.105)\n",
      "Requirement already satisfied: nvidia-cuda-runtime-cu12==12.1.105 in /home/estelle/miniconda3/envs/rlnavenv/lib/python3.8/site-packages (from torch>=2.2.1->tensordict) (12.1.105)\n",
      "Requirement already satisfied: nvidia-cuda-cupti-cu12==12.1.105 in /home/estelle/miniconda3/envs/rlnavenv/lib/python3.8/site-packages (from torch>=2.2.1->tensordict) (12.1.105)\n",
      "Requirement already satisfied: nvidia-cudnn-cu12==8.9.2.26 in /home/estelle/miniconda3/envs/rlnavenv/lib/python3.8/site-packages (from torch>=2.2.1->tensordict) (8.9.2.26)\n",
      "Requirement already satisfied: nvidia-cublas-cu12==12.1.3.1 in /home/estelle/miniconda3/envs/rlnavenv/lib/python3.8/site-packages (from torch>=2.2.1->tensordict) (12.1.3.1)\n",
      "Requirement already satisfied: nvidia-cufft-cu12==11.0.2.54 in /home/estelle/miniconda3/envs/rlnavenv/lib/python3.8/site-packages (from torch>=2.2.1->tensordict) (11.0.2.54)\n",
      "Requirement already satisfied: nvidia-curand-cu12==10.3.2.106 in /home/estelle/miniconda3/envs/rlnavenv/lib/python3.8/site-packages (from torch>=2.2.1->tensordict) (10.3.2.106)\n",
      "Requirement already satisfied: nvidia-cusolver-cu12==11.4.5.107 in /home/estelle/miniconda3/envs/rlnavenv/lib/python3.8/site-packages (from torch>=2.2.1->tensordict) (11.4.5.107)\n",
      "Requirement already satisfied: nvidia-cusparse-cu12==12.1.0.106 in /home/estelle/miniconda3/envs/rlnavenv/lib/python3.8/site-packages (from torch>=2.2.1->tensordict) (12.1.0.106)\n",
      "Requirement already satisfied: nvidia-nccl-cu12==2.19.3 in /home/estelle/miniconda3/envs/rlnavenv/lib/python3.8/site-packages (from torch>=2.2.1->tensordict) (2.19.3)\n",
      "Requirement already satisfied: nvidia-nvtx-cu12==12.1.105 in /home/estelle/miniconda3/envs/rlnavenv/lib/python3.8/site-packages (from torch>=2.2.1->tensordict) (12.1.105)\n",
      "Requirement already satisfied: triton==2.2.0 in /home/estelle/miniconda3/envs/rlnavenv/lib/python3.8/site-packages (from torch>=2.2.1->tensordict) (2.2.0)\n",
      "Requirement already satisfied: nvidia-nvjitlink-cu12 in /home/estelle/miniconda3/envs/rlnavenv/lib/python3.8/site-packages (from nvidia-cusolver-cu12==11.4.5.107->torch>=2.2.1->tensordict) (12.3.101)\n",
      "Requirement already satisfied: MarkupSafe>=2.0 in /home/estelle/miniconda3/envs/rlnavenv/lib/python3.8/site-packages (from jinja2->torch>=2.2.1->tensordict) (2.1.3)\n",
      "Requirement already satisfied: mpmath>=0.19 in /home/estelle/miniconda3/envs/rlnavenv/lib/python3.8/site-packages (from sympy->torch>=2.2.1->tensordict) (1.3.0)\n",
      "\u001b[33mWARNING: Ignoring invalid distribution -vidia-nccl-cu12 (/home/estelle/miniconda3/envs/rlnavenv/lib/python3.8/site-packages)\u001b[0m\u001b[33m\n",
      "\u001b[0m\u001b[33mWARNING: Ignoring invalid distribution -vidia-nccl-cu12 (/home/estelle/miniconda3/envs/rlnavenv/lib/python3.8/site-packages)\u001b[0m\u001b[33m\n",
      "\u001b[0mRequirement already satisfied: torchrl in /home/estelle/miniconda3/envs/rlnavenv/lib/python3.8/site-packages (0.3.1)\n"
     ]
    },
    {
     "name": "stdout",
     "output_type": "stream",
     "text": [
      "Requirement already satisfied: torch>=2.1.0 in /home/estelle/miniconda3/envs/rlnavenv/lib/python3.8/site-packages (from torchrl) (2.2.1)\n",
      "Requirement already satisfied: numpy in /home/estelle/miniconda3/envs/rlnavenv/lib/python3.8/site-packages (from torchrl) (1.22.4)\n",
      "Requirement already satisfied: packaging in /home/estelle/miniconda3/envs/rlnavenv/lib/python3.8/site-packages (from torchrl) (23.2)\n",
      "Requirement already satisfied: cloudpickle in /home/estelle/miniconda3/envs/rlnavenv/lib/python3.8/site-packages (from torchrl) (3.0.0)\n",
      "Requirement already satisfied: tensordict>=0.3.1 in /home/estelle/miniconda3/envs/rlnavenv/lib/python3.8/site-packages (from torchrl) (0.3.1)\n",
      "Requirement already satisfied: filelock in /home/estelle/miniconda3/envs/rlnavenv/lib/python3.8/site-packages (from torch>=2.1.0->torchrl) (3.13.1)\n",
      "Requirement already satisfied: typing-extensions>=4.8.0 in /home/estelle/miniconda3/envs/rlnavenv/lib/python3.8/site-packages (from torch>=2.1.0->torchrl) (4.10.0)\n",
      "Requirement already satisfied: sympy in /home/estelle/miniconda3/envs/rlnavenv/lib/python3.8/site-packages (from torch>=2.1.0->torchrl) (1.12)\n",
      "Requirement already satisfied: networkx in /home/estelle/miniconda3/envs/rlnavenv/lib/python3.8/site-packages (from torch>=2.1.0->torchrl) (3.1)\n",
      "Requirement already satisfied: jinja2 in /home/estelle/miniconda3/envs/rlnavenv/lib/python3.8/site-packages (from torch>=2.1.0->torchrl) (3.1.2)\n",
      "Requirement already satisfied: fsspec in /home/estelle/miniconda3/envs/rlnavenv/lib/python3.8/site-packages (from torch>=2.1.0->torchrl) (2023.12.1)\n",
      "Requirement already satisfied: nvidia-cuda-nvrtc-cu12==12.1.105 in /home/estelle/miniconda3/envs/rlnavenv/lib/python3.8/site-packages (from torch>=2.1.0->torchrl) (12.1.105)\n",
      "Requirement already satisfied: nvidia-cuda-runtime-cu12==12.1.105 in /home/estelle/miniconda3/envs/rlnavenv/lib/python3.8/site-packages (from torch>=2.1.0->torchrl) (12.1.105)\n",
      "Requirement already satisfied: nvidia-cuda-cupti-cu12==12.1.105 in /home/estelle/miniconda3/envs/rlnavenv/lib/python3.8/site-packages (from torch>=2.1.0->torchrl) (12.1.105)\n",
      "Requirement already satisfied: nvidia-cudnn-cu12==8.9.2.26 in /home/estelle/miniconda3/envs/rlnavenv/lib/python3.8/site-packages (from torch>=2.1.0->torchrl) (8.9.2.26)\n",
      "Requirement already satisfied: nvidia-cublas-cu12==12.1.3.1 in /home/estelle/miniconda3/envs/rlnavenv/lib/python3.8/site-packages (from torch>=2.1.0->torchrl) (12.1.3.1)\n",
      "Requirement already satisfied: nvidia-cufft-cu12==11.0.2.54 in /home/estelle/miniconda3/envs/rlnavenv/lib/python3.8/site-packages (from torch>=2.1.0->torchrl) (11.0.2.54)\n",
      "Requirement already satisfied: nvidia-curand-cu12==10.3.2.106 in /home/estelle/miniconda3/envs/rlnavenv/lib/python3.8/site-packages (from torch>=2.1.0->torchrl) (10.3.2.106)\n",
      "Requirement already satisfied: nvidia-cusolver-cu12==11.4.5.107 in /home/estelle/miniconda3/envs/rlnavenv/lib/python3.8/site-packages (from torch>=2.1.0->torchrl) (11.4.5.107)\n",
      "Requirement already satisfied: nvidia-cusparse-cu12==12.1.0.106 in /home/estelle/miniconda3/envs/rlnavenv/lib/python3.8/site-packages (from torch>=2.1.0->torchrl) (12.1.0.106)\n",
      "Requirement already satisfied: nvidia-nccl-cu12==2.19.3 in /home/estelle/miniconda3/envs/rlnavenv/lib/python3.8/site-packages (from torch>=2.1.0->torchrl) (2.19.3)\n",
      "Requirement already satisfied: nvidia-nvtx-cu12==12.1.105 in /home/estelle/miniconda3/envs/rlnavenv/lib/python3.8/site-packages (from torch>=2.1.0->torchrl) (12.1.105)\n",
      "Requirement already satisfied: triton==2.2.0 in /home/estelle/miniconda3/envs/rlnavenv/lib/python3.8/site-packages (from torch>=2.1.0->torchrl) (2.2.0)\n",
      "Requirement already satisfied: nvidia-nvjitlink-cu12 in /home/estelle/miniconda3/envs/rlnavenv/lib/python3.8/site-packages (from nvidia-cusolver-cu12==11.4.5.107->torch>=2.1.0->torchrl) (12.3.101)\n",
      "Requirement already satisfied: MarkupSafe>=2.0 in /home/estelle/miniconda3/envs/rlnavenv/lib/python3.8/site-packages (from jinja2->torch>=2.1.0->torchrl) (2.1.3)\n",
      "Requirement already satisfied: mpmath>=0.19 in /home/estelle/miniconda3/envs/rlnavenv/lib/python3.8/site-packages (from sympy->torch>=2.1.0->torchrl) (1.3.0)\n",
      "\u001b[33mWARNING: Ignoring invalid distribution -vidia-nccl-cu12 (/home/estelle/miniconda3/envs/rlnavenv/lib/python3.8/site-packages)\u001b[0m\u001b[33m\n",
      "\u001b[0m\u001b[33mWARNING: Ignoring invalid distribution -vidia-nccl-cu12 (/home/estelle/miniconda3/envs/rlnavenv/lib/python3.8/site-packages)\u001b[0m\u001b[33m\n",
      "\u001b[0mRequirement already satisfied: gym[mujoco] in /home/estelle/miniconda3/envs/rlnavenv/lib/python3.8/site-packages (0.26.2)\n",
      "Requirement already satisfied: numpy>=1.18.0 in /home/estelle/miniconda3/envs/rlnavenv/lib/python3.8/site-packages (from gym[mujoco]) (1.22.4)\n",
      "Requirement already satisfied: cloudpickle>=1.2.0 in /home/estelle/miniconda3/envs/rlnavenv/lib/python3.8/site-packages (from gym[mujoco]) (3.0.0)\n",
      "Requirement already satisfied: gym-notices>=0.0.4 in /home/estelle/miniconda3/envs/rlnavenv/lib/python3.8/site-packages (from gym[mujoco]) (0.0.8)\n",
      "Requirement already satisfied: importlib-metadata>=4.8.0 in /home/estelle/miniconda3/envs/rlnavenv/lib/python3.8/site-packages (from gym[mujoco]) (6.8.0)\n",
      "Requirement already satisfied: mujoco==2.2 in /home/estelle/miniconda3/envs/rlnavenv/lib/python3.8/site-packages (from gym[mujoco]) (2.2.0)\n",
      "Requirement already satisfied: imageio>=2.14.1 in /home/estelle/miniconda3/envs/rlnavenv/lib/python3.8/site-packages (from gym[mujoco]) (2.33.0)\n",
      "Requirement already satisfied: absl-py in /home/estelle/miniconda3/envs/rlnavenv/lib/python3.8/site-packages (from mujoco==2.2->gym[mujoco]) (2.0.0)\n",
      "Requirement already satisfied: glfw in /home/estelle/miniconda3/envs/rlnavenv/lib/python3.8/site-packages (from mujoco==2.2->gym[mujoco]) (2.7.0)\n",
      "Requirement already satisfied: pyopengl in /home/estelle/miniconda3/envs/rlnavenv/lib/python3.8/site-packages (from mujoco==2.2->gym[mujoco]) (3.1.7)\n",
      "Requirement already satisfied: pillow>=8.3.2 in /home/estelle/miniconda3/envs/rlnavenv/lib/python3.8/site-packages (from imageio>=2.14.1->gym[mujoco]) (10.1.0)\n",
      "Requirement already satisfied: zipp>=0.5 in /home/estelle/miniconda3/envs/rlnavenv/lib/python3.8/site-packages (from importlib-metadata>=4.8.0->gym[mujoco]) (3.17.0)\n",
      "\u001b[33mWARNING: Ignoring invalid distribution -vidia-nccl-cu12 (/home/estelle/miniconda3/envs/rlnavenv/lib/python3.8/site-packages)\u001b[0m\u001b[33m\n",
      "\u001b[0m\u001b[33mWARNING: Ignoring invalid distribution -vidia-nccl-cu12 (/home/estelle/miniconda3/envs/rlnavenv/lib/python3.8/site-packages)\u001b[0m\u001b[33m\n",
      "\u001b[0mRequirement already satisfied: tqdm in /home/estelle/miniconda3/envs/rlnavenv/lib/python3.8/site-packages (4.65.0)\n",
      "\u001b[33mWARNING: Ignoring invalid distribution -vidia-nccl-cu12 (/home/estelle/miniconda3/envs/rlnavenv/lib/python3.8/site-packages)\u001b[0m\u001b[33m\n",
      "\u001b[0m"
     ]
    }
   ],
   "source": [
    "#install the dependencies\n",
    "!pip install torch==2.2.1\n",
    "!pip install tensordict\n",
    "\n",
    "!pip3 install torchrl\n",
    "!pip3 install gym[mujoco]\n",
    "!pip3 install tqdm"
   ]
  },
  {
   "cell_type": "code",
   "execution_count": 2,
   "id": "f4f1c00c",
   "metadata": {},
   "outputs": [],
   "source": [
    "#Throughout this tutorial, we’ll be using the tensordict library\n",
    "from collections import defaultdict\n",
    "\n",
    "import matplotlib.pyplot as plt\n",
    "import torch\n",
    "import multiprocessing\n",
    "from tensordict.nn import TensorDictModule\n",
    "from tensordict.nn.distributions import NormalParamExtractor\n",
    "from torch import nn\n",
    "\n",
    "from torchrl.collectors import SyncDataCollector\n",
    "from torchrl.data.replay_buffers import ReplayBuffer\n",
    "from torchrl.data.replay_buffers.samplers import SamplerWithoutReplacement\n",
    "from torchrl.data.replay_buffers.storages import LazyTensorStorage\n",
    "from torchrl.envs import (\n",
    "    Compose,\n",
    "    DoubleToFloat,\n",
    "    ObservationNorm,\n",
    "    StepCounter,\n",
    "    TransformedEnv,\n",
    ")\n",
    "from torchrl.envs.libs.gym import GymEnv\n",
    "from torchrl.envs.utils import check_env_specs, ExplorationType, set_exploration_type\n",
    "from torchrl.modules import ProbabilisticActor, TanhNormal, ValueOperator\n",
    "from torchrl.objectives import ClipPPOLoss\n",
    "from torchrl.objectives.value import GAE\n",
    "from tqdm import tqdm"
   ]
  },
  {
   "cell_type": "markdown",
   "id": "d4546bef",
   "metadata": {},
   "source": [
    "## Define Hyperparameters"
   ]
  },
  {
   "cell_type": "code",
   "execution_count": 3,
   "id": "877d2910",
   "metadata": {
    "scrolled": true
   },
   "outputs": [],
   "source": [
    "is_fork = multiprocessing.get_start_method() == \"fork\"\n",
    "#device = (\n",
    "#    torch.device(0)\n",
    "#    if torch.cuda.is_available() and not is_fork\n",
    "#    else torch.device(\"cpu\")\n",
    "#)\n",
    "\n",
    "device = (\n",
    "    torch.device(\"cuda:0\")\n",
    "    if torch.cuda.is_available() and not is_fork\n",
    "    else torch.device(\"cpu\")\n",
    ")\n",
    "\n",
    "num_cells = 256  # number of cells in each layer i.e. output dim.\n",
    "lr = 3e-4\n",
    "max_grad_norm = 1.0"
   ]
  },
  {
   "cell_type": "markdown",
   "id": "4d7198ed",
   "metadata": {},
   "source": [
    "## Data collection parameters"
   ]
  },
  {
   "cell_type": "code",
   "execution_count": 4,
   "id": "d8997244",
   "metadata": {},
   "outputs": [],
   "source": [
    "frames_per_batch = 1000\n",
    "# For a complete training, bring the number of frames up to 1M\n",
    "total_frames = 10_000"
   ]
  },
  {
   "cell_type": "markdown",
   "id": "716881f7",
   "metadata": {},
   "source": [
    "## PPO parameters"
   ]
  },
  {
   "cell_type": "code",
   "execution_count": 5,
   "id": "5d28e7b1",
   "metadata": {},
   "outputs": [],
   "source": [
    "sub_batch_size = 64  # cardinality of the sub-samples gathered from the current data in the inner loop\n",
    "num_epochs = 10  # optimisation steps per batch of data collected\n",
    "clip_epsilon = (\n",
    "    0.2  # clip value for PPO loss: see the equation in the intro for more context.\n",
    ")\n",
    "gamma = 0.99\n",
    "lmbda = 0.95\n",
    "entropy_eps = 1e-4"
   ]
  },
  {
   "cell_type": "markdown",
   "id": "4007b4bf",
   "metadata": {},
   "source": [
    "## Define an environment"
   ]
  },
  {
   "cell_type": "code",
   "execution_count": 6,
   "id": "f47284dc",
   "metadata": {},
   "outputs": [],
   "source": [
    "device = torch.device(\"cuda\" if torch.cuda.is_available() else \"cpu\")\n",
    "base_env = GymEnv(\"InvertedDoublePendulum-v4\",device=device)\n",
    "#base_env = GymEnv(\"InvertedDoublePendulum-v4\",device=device)"
   ]
  },
  {
   "cell_type": "markdown",
   "id": "65949b4f",
   "metadata": {},
   "source": [
    "## Normalization"
   ]
  },
  {
   "cell_type": "code",
   "execution_count": 7,
   "id": "fdebce68",
   "metadata": {},
   "outputs": [],
   "source": [
    "env = TransformedEnv(\n",
    "    base_env,\n",
    "    Compose(\n",
    "        # normalize observations\n",
    "        ObservationNorm(in_keys=[\"observation\"]),\n",
    "        DoubleToFloat(),\n",
    "        StepCounter(),\n",
    "    ),\n",
    ")"
   ]
  },
  {
   "cell_type": "code",
   "execution_count": 8,
   "id": "85053386",
   "metadata": {},
   "outputs": [],
   "source": [
    "env.transform[0].init_stats(num_iter=1000, reduce_dim=0, cat_dim=0)"
   ]
  },
  {
   "cell_type": "code",
   "execution_count": 9,
   "id": "fec52a30",
   "metadata": {},
   "outputs": [
    {
     "name": "stdout",
     "output_type": "stream",
     "text": [
      "normalization constant shape: torch.Size([11])\n"
     ]
    }
   ],
   "source": [
    "#sanity check\n",
    "print(\"normalization constant shape:\", env.transform[0].loc.shape)"
   ]
  },
  {
   "cell_type": "code",
   "execution_count": 10,
   "id": "f118058a",
   "metadata": {},
   "outputs": [
    {
     "name": "stdout",
     "output_type": "stream",
     "text": [
      "observation_spec: CompositeSpec(\n",
      "    observation: UnboundedContinuousTensorSpec(\n",
      "        shape=torch.Size([11]),\n",
      "        space=None,\n",
      "        device=cuda,\n",
      "        dtype=torch.float32,\n",
      "        domain=continuous),\n",
      "    step_count: BoundedTensorSpec(\n",
      "        shape=torch.Size([1]),\n",
      "        space=ContinuousBox(\n",
      "            low=Tensor(shape=torch.Size([1]), device=cuda:0, dtype=torch.int64, contiguous=True),\n",
      "            high=Tensor(shape=torch.Size([1]), device=cuda:0, dtype=torch.int64, contiguous=True)),\n",
      "        device=cuda,\n",
      "        dtype=torch.int64,\n",
      "        domain=continuous), device=cuda, shape=torch.Size([]))\n",
      "reward_spec: UnboundedContinuousTensorSpec(\n",
      "    shape=torch.Size([1]),\n",
      "    space=ContinuousBox(\n",
      "        low=Tensor(shape=torch.Size([1]), device=cuda:0, dtype=torch.float32, contiguous=True),\n",
      "        high=Tensor(shape=torch.Size([1]), device=cuda:0, dtype=torch.float32, contiguous=True)),\n",
      "    device=cuda,\n",
      "    dtype=torch.float32,\n",
      "    domain=continuous)\n",
      "input_spec: CompositeSpec(\n",
      "    full_state_spec: CompositeSpec(\n",
      "        step_count: BoundedTensorSpec(\n",
      "            shape=torch.Size([1]),\n",
      "            space=ContinuousBox(\n",
      "                low=Tensor(shape=torch.Size([1]), device=cuda:0, dtype=torch.int64, contiguous=True),\n",
      "                high=Tensor(shape=torch.Size([1]), device=cuda:0, dtype=torch.int64, contiguous=True)),\n",
      "            device=cuda,\n",
      "            dtype=torch.int64,\n",
      "            domain=continuous), device=cuda, shape=torch.Size([])),\n",
      "    full_action_spec: CompositeSpec(\n",
      "        action: BoundedTensorSpec(\n",
      "            shape=torch.Size([1]),\n",
      "            space=ContinuousBox(\n",
      "                low=Tensor(shape=torch.Size([1]), device=cuda:0, dtype=torch.float32, contiguous=True),\n",
      "                high=Tensor(shape=torch.Size([1]), device=cuda:0, dtype=torch.float32, contiguous=True)),\n",
      "            device=cuda,\n",
      "            dtype=torch.float32,\n",
      "            domain=continuous), device=cuda, shape=torch.Size([])), device=cuda, shape=torch.Size([]))\n",
      "action_spec (as defined by input_spec): BoundedTensorSpec(\n",
      "    shape=torch.Size([1]),\n",
      "    space=ContinuousBox(\n",
      "        low=Tensor(shape=torch.Size([1]), device=cuda:0, dtype=torch.float32, contiguous=True),\n",
      "        high=Tensor(shape=torch.Size([1]), device=cuda:0, dtype=torch.float32, contiguous=True)),\n",
      "    device=cuda,\n",
      "    dtype=torch.float32,\n",
      "    domain=continuous)\n"
     ]
    }
   ],
   "source": [
    "print(\"observation_spec:\", env.observation_spec)\n",
    "print(\"reward_spec:\", env.reward_spec)\n",
    "print(\"input_spec:\", env.input_spec)\n",
    "print(\"action_spec (as defined by input_spec):\", env.action_spec)"
   ]
  },
  {
   "cell_type": "code",
   "execution_count": 11,
   "id": "e4f24a14",
   "metadata": {
    "scrolled": true
   },
   "outputs": [
    {
     "name": "stderr",
     "output_type": "stream",
     "text": [
      "2024-03-21 12:19:11,150 [torchrl][INFO] check_env_specs succeeded!\n"
     ]
    }
   ],
   "source": [
    "check_env_specs(env)"
   ]
  },
  {
   "cell_type": "markdown",
   "id": "1cee22b5",
   "metadata": {},
   "source": [
    ":D"
   ]
  },
  {
   "cell_type": "code",
   "execution_count": 12,
   "id": "992e9a3e",
   "metadata": {},
   "outputs": [
    {
     "name": "stdout",
     "output_type": "stream",
     "text": [
      "rollout of three steps: TensorDict(\n",
      "    fields={\n",
      "        action: Tensor(shape=torch.Size([3, 1]), device=cuda:0, dtype=torch.float32, is_shared=True),\n",
      "        done: Tensor(shape=torch.Size([3, 1]), device=cuda:0, dtype=torch.bool, is_shared=True),\n",
      "        next: TensorDict(\n",
      "            fields={\n",
      "                done: Tensor(shape=torch.Size([3, 1]), device=cuda:0, dtype=torch.bool, is_shared=True),\n",
      "                observation: Tensor(shape=torch.Size([3, 11]), device=cuda:0, dtype=torch.float32, is_shared=True),\n",
      "                reward: Tensor(shape=torch.Size([3, 1]), device=cuda:0, dtype=torch.float32, is_shared=True),\n",
      "                step_count: Tensor(shape=torch.Size([3, 1]), device=cuda:0, dtype=torch.int64, is_shared=True),\n",
      "                terminated: Tensor(shape=torch.Size([3, 1]), device=cuda:0, dtype=torch.bool, is_shared=True),\n",
      "                truncated: Tensor(shape=torch.Size([3, 1]), device=cuda:0, dtype=torch.bool, is_shared=True)},\n",
      "            batch_size=torch.Size([3]),\n",
      "            device=cuda,\n",
      "            is_shared=True),\n",
      "        observation: Tensor(shape=torch.Size([3, 11]), device=cuda:0, dtype=torch.float32, is_shared=True),\n",
      "        step_count: Tensor(shape=torch.Size([3, 1]), device=cuda:0, dtype=torch.int64, is_shared=True),\n",
      "        terminated: Tensor(shape=torch.Size([3, 1]), device=cuda:0, dtype=torch.bool, is_shared=True),\n",
      "        truncated: Tensor(shape=torch.Size([3, 1]), device=cuda:0, dtype=torch.bool, is_shared=True)},\n",
      "    batch_size=torch.Size([3]),\n",
      "    device=cuda,\n",
      "    is_shared=True)\n",
      "Shape of the rollout TensorDict: torch.Size([3])\n"
     ]
    }
   ],
   "source": [
    "rollout = env.rollout(3)\n",
    "print(\"rollout of three steps:\", rollout)\n",
    "print(\"Shape of the rollout TensorDict:\", rollout.batch_size)"
   ]
  },
  {
   "cell_type": "markdown",
   "id": "814b59cc",
   "metadata": {},
   "source": [
    "## Policy"
   ]
  },
  {
   "cell_type": "code",
   "execution_count": 13,
   "id": "0940774d",
   "metadata": {},
   "outputs": [
    {
     "name": "stderr",
     "output_type": "stream",
     "text": [
      "/home/estelle/miniconda3/envs/rlnavenv/lib/python3.8/site-packages/torch/nn/modules/lazy.py:181: UserWarning: Lazy modules are a new feature under heavy development so changes to the API or functionality can happen at any moment.\n",
      "  warnings.warn('Lazy modules are a new feature under heavy development '\n"
     ]
    }
   ],
   "source": [
    "actor_net = nn.Sequential(\n",
    "    nn.LazyLinear(num_cells, device=device),\n",
    "    nn.Tanh(),\n",
    "    nn.LazyLinear(num_cells, device=device),\n",
    "    nn.Tanh(),\n",
    "    nn.LazyLinear(num_cells, device=device),\n",
    "    nn.Tanh(),\n",
    "    nn.LazyLinear(2 * env.action_spec.shape[-1], device=device),\n",
    "    NormalParamExtractor(),\n",
    ")"
   ]
  },
  {
   "cell_type": "code",
   "execution_count": 14,
   "id": "8bb0cbc1",
   "metadata": {},
   "outputs": [],
   "source": [
    "policy_module = TensorDictModule(\n",
    "    actor_net, in_keys=[\"observation\"], out_keys=[\"loc\", \"scale\"]\n",
    ")"
   ]
  },
  {
   "cell_type": "code",
   "execution_count": 15,
   "id": "0d76344b",
   "metadata": {},
   "outputs": [],
   "source": [
    "policy_module = ProbabilisticActor(\n",
    "    module=policy_module,\n",
    "    spec=env.action_spec,\n",
    "    in_keys=[\"loc\", \"scale\"],\n",
    "    distribution_class=TanhNormal,\n",
    "    distribution_kwargs={\n",
    "        \"min\": env.action_spec.space.low,\n",
    "        \"max\": env.action_spec.space.high,\n",
    "    },\n",
    "    return_log_prob=True,\n",
    "    # we'll need the log-prob for the numerator of the importance weights\n",
    ")"
   ]
  },
  {
   "cell_type": "markdown",
   "id": "b42a2586",
   "metadata": {},
   "source": [
    "## Value Network"
   ]
  },
  {
   "cell_type": "code",
   "execution_count": 16,
   "id": "cf6ae334",
   "metadata": {},
   "outputs": [],
   "source": [
    "value_net = nn.Sequential(\n",
    "    nn.LazyLinear(num_cells, device=device),\n",
    "    nn.Tanh(),\n",
    "    nn.LazyLinear(num_cells, device=device),\n",
    "    nn.Tanh(),\n",
    "    nn.LazyLinear(num_cells, device=device),\n",
    "    nn.Tanh(),\n",
    "    nn.LazyLinear(1, device=device),\n",
    ")\n",
    "\n",
    "value_module = ValueOperator(\n",
    "    module=value_net,\n",
    "    in_keys=[\"observation\"],\n",
    ")"
   ]
  },
  {
   "cell_type": "code",
   "execution_count": 17,
   "id": "ba88d965",
   "metadata": {},
   "outputs": [
    {
     "name": "stdout",
     "output_type": "stream",
     "text": [
      "Running policy: TensorDict(\n",
      "    fields={\n",
      "        action: Tensor(shape=torch.Size([1]), device=cuda:0, dtype=torch.float32, is_shared=True),\n",
      "        done: Tensor(shape=torch.Size([1]), device=cuda:0, dtype=torch.bool, is_shared=True),\n",
      "        loc: Tensor(shape=torch.Size([1]), device=cuda:0, dtype=torch.float32, is_shared=True),\n",
      "        observation: Tensor(shape=torch.Size([11]), device=cuda:0, dtype=torch.float32, is_shared=True),\n",
      "        sample_log_prob: Tensor(shape=torch.Size([]), device=cuda:0, dtype=torch.float32, is_shared=True),\n",
      "        scale: Tensor(shape=torch.Size([1]), device=cuda:0, dtype=torch.float32, is_shared=True),\n",
      "        step_count: Tensor(shape=torch.Size([1]), device=cuda:0, dtype=torch.int64, is_shared=True),\n",
      "        terminated: Tensor(shape=torch.Size([1]), device=cuda:0, dtype=torch.bool, is_shared=True),\n",
      "        truncated: Tensor(shape=torch.Size([1]), device=cuda:0, dtype=torch.bool, is_shared=True)},\n",
      "    batch_size=torch.Size([]),\n",
      "    device=cuda,\n",
      "    is_shared=True)\n",
      "Running value: TensorDict(\n",
      "    fields={\n",
      "        done: Tensor(shape=torch.Size([1]), device=cuda:0, dtype=torch.bool, is_shared=True),\n",
      "        observation: Tensor(shape=torch.Size([11]), device=cuda:0, dtype=torch.float32, is_shared=True),\n",
      "        state_value: Tensor(shape=torch.Size([1]), device=cuda:0, dtype=torch.float32, is_shared=True),\n",
      "        step_count: Tensor(shape=torch.Size([1]), device=cuda:0, dtype=torch.int64, is_shared=True),\n",
      "        terminated: Tensor(shape=torch.Size([1]), device=cuda:0, dtype=torch.bool, is_shared=True),\n",
      "        truncated: Tensor(shape=torch.Size([1]), device=cuda:0, dtype=torch.bool, is_shared=True)},\n",
      "    batch_size=torch.Size([]),\n",
      "    device=cuda,\n",
      "    is_shared=True)\n"
     ]
    }
   ],
   "source": [
    "print(\"Running policy:\", policy_module(env.reset()))\n",
    "print(\"Running value:\", value_module(env.reset()))"
   ]
  },
  {
   "cell_type": "markdown",
   "id": "ca2c4015",
   "metadata": {},
   "source": [
    ":D"
   ]
  },
  {
   "cell_type": "markdown",
   "id": "613a3cae",
   "metadata": {},
   "source": [
    "## Data Collector"
   ]
  },
  {
   "cell_type": "code",
   "execution_count": 18,
   "id": "e3edf0ee",
   "metadata": {},
   "outputs": [],
   "source": [
    "collector = SyncDataCollector(\n",
    "    env,\n",
    "    policy_module,\n",
    "    frames_per_batch=frames_per_batch,\n",
    "    total_frames=total_frames,\n",
    "    split_trajs=False,\n",
    "    device=device,\n",
    ")"
   ]
  },
  {
   "cell_type": "markdown",
   "id": "af858490",
   "metadata": {},
   "source": [
    "## Replay Buffer"
   ]
  },
  {
   "cell_type": "code",
   "execution_count": 19,
   "id": "c7a6e8a2",
   "metadata": {},
   "outputs": [],
   "source": [
    "replay_buffer = ReplayBuffer(\n",
    "    storage=LazyTensorStorage(max_size=frames_per_batch),\n",
    "    sampler=SamplerWithoutReplacement(),\n",
    ")"
   ]
  },
  {
   "cell_type": "markdown",
   "id": "b259a9a7",
   "metadata": {},
   "source": [
    "## Loss Function"
   ]
  },
  {
   "cell_type": "code",
   "execution_count": 20,
   "id": "ace62855",
   "metadata": {},
   "outputs": [],
   "source": [
    "advantage_module = GAE(\n",
    "    gamma=gamma, lmbda=lmbda, value_network=value_module, average_gae=True\n",
    ")\n",
    "\n",
    "loss_module = ClipPPOLoss(\n",
    "    actor_network=policy_module,\n",
    "    critic_network=value_module,\n",
    "    clip_epsilon=clip_epsilon,\n",
    "    entropy_bonus=bool(entropy_eps),\n",
    "    entropy_coef=entropy_eps,\n",
    "    # these keys match by default but we set this for completeness\n",
    "    critic_coef=1.0,\n",
    "    loss_critic_type=\"smooth_l1\",\n",
    ")\n",
    "\n",
    "optim = torch.optim.Adam(loss_module.parameters(), lr)\n",
    "scheduler = torch.optim.lr_scheduler.CosineAnnealingLR(\n",
    "    optim, total_frames // frames_per_batch, 0.0\n",
    ")"
   ]
  },
  {
   "cell_type": "markdown",
   "id": "2ecadf17",
   "metadata": {},
   "source": [
    "# Training Loop !"
   ]
  },
  {
   "cell_type": "code",
   "execution_count": 21,
   "id": "fe43dc7f",
   "metadata": {},
   "outputs": [
    {
     "name": "stderr",
     "output_type": "stream",
     "text": [
      "eval cumulative reward:  73.5214 (init:  73.5214), eval step-count: 7, average reward= 9.2463 (init= 9."
     ]
    }
   ],
   "source": [
    "logs = defaultdict(list)\n",
    "pbar = tqdm(total=total_frames)\n",
    "eval_str = \"\"\n",
    "\n",
    "# We iterate over the collector until it reaches the total number of frames it was\n",
    "# designed to collect:\n",
    "for i, tensordict_data in enumerate(collector):\n",
    "    # we now have a batch of data to work with. Let's learn something from it.\n",
    "    for _ in range(num_epochs):\n",
    "        # We'll need an \"advantage\" signal to make PPO work.\n",
    "        # We re-compute it at each epoch as its value depends on the value\n",
    "        # network which is updated in the inner loop.\n",
    "        advantage_module(tensordict_data)\n",
    "        data_view = tensordict_data.reshape(-1)\n",
    "        replay_buffer.extend(data_view.cpu())\n",
    "        for _ in range(frames_per_batch // sub_batch_size):\n",
    "            subdata = replay_buffer.sample(sub_batch_size)\n",
    "            loss_vals = loss_module(subdata.to(device))\n",
    "            loss_value = (\n",
    "                loss_vals[\"loss_objective\"]\n",
    "                + loss_vals[\"loss_critic\"]\n",
    "                + loss_vals[\"loss_entropy\"]\n",
    "            )\n",
    "\n",
    "            # Optimization: backward, grad clipping and optimization step\n",
    "            loss_value.backward()\n",
    "            # this is not strictly mandatory but it's good practice to keep\n",
    "            # your gradient norm bounded\n",
    "            torch.nn.utils.clip_grad_norm_(loss_module.parameters(), max_grad_norm)\n",
    "            optim.step()\n",
    "            optim.zero_grad()\n",
    "\n",
    "    logs[\"reward\"].append(tensordict_data[\"next\", \"reward\"].mean().item())\n",
    "    pbar.update(tensordict_data.numel())\n",
    "    cum_reward_str = (\n",
    "        f\"average reward={logs['reward'][-1]: 4.4f} (init={logs['reward'][0]: 4.4f})\"\n",
    "    )\n",
    "    logs[\"step_count\"].append(tensordict_data[\"step_count\"].max().item())\n",
    "    stepcount_str = f\"step count (max): {logs['step_count'][-1]}\"\n",
    "    logs[\"lr\"].append(optim.param_groups[0][\"lr\"])\n",
    "    lr_str = f\"lr policy: {logs['lr'][-1]: 4.4f}\"\n",
    "    if i % 10 == 0:\n",
    "        # We evaluate the policy once every 10 batches of data.\n",
    "        # Evaluation is rather simple: execute the policy without exploration\n",
    "        # (take the expected value of the action distribution) for a given\n",
    "        # number of steps (1000, which is our ``env`` horizon).\n",
    "        # The ``rollout`` method of the ``env`` can take a policy as argument:\n",
    "        # it will then execute this policy at each step.\n",
    "        with set_exploration_type(ExplorationType.MEAN), torch.no_grad():\n",
    "            # execute a rollout with the trained policy\n",
    "            eval_rollout = env.rollout(1000, policy_module)\n",
    "            logs[\"eval reward\"].append(eval_rollout[\"next\", \"reward\"].mean().item())\n",
    "            logs[\"eval reward (sum)\"].append(\n",
    "                eval_rollout[\"next\", \"reward\"].sum().item()\n",
    "            )\n",
    "            logs[\"eval step_count\"].append(eval_rollout[\"step_count\"].max().item())\n",
    "            eval_str = (\n",
    "                f\"eval cumulative reward: {logs['eval reward (sum)'][-1]: 4.4f} \"\n",
    "                f\"(init: {logs['eval reward (sum)'][0]: 4.4f}), \"\n",
    "                f\"eval step-count: {logs['eval step_count'][-1]}\"\n",
    "            )\n",
    "            del eval_rollout\n",
    "    pbar.set_description(\", \".join([eval_str, cum_reward_str, stepcount_str, lr_str]))\n",
    "\n",
    "    # We're also using a learning rate scheduler. Like the gradient clipping,\n",
    "    # this is a nice-to-have but nothing necessary for PPO to work.\n",
    "    scheduler.step()"
   ]
  },
  {
   "cell_type": "markdown",
   "id": "f8ff8171",
   "metadata": {},
   "source": [
    "## Results"
   ]
  },
  {
   "cell_type": "code",
   "execution_count": 22,
   "id": "955860a2",
   "metadata": {},
   "outputs": [
    {
     "data": {
      "image/png": "[encoded data removed]",
      "text/plain": [
       "<Figure size 1000x1000 with 4 Axes>"
      ]
     },
     "metadata": {},
     "output_type": "display_data"
    }
   ],
   "source": [
    "plt.figure(figsize=(10, 10))\n",
    "plt.subplot(2, 2, 1)\n",
    "plt.plot(logs[\"reward\"])\n",
    "plt.title(\"training rewards (average)\")\n",
    "plt.subplot(2, 2, 2)\n",
    "plt.plot(logs[\"step_count\"])\n",
    "plt.title(\"Max step count (training)\")\n",
    "plt.subplot(2, 2, 3)\n",
    "plt.plot(logs[\"eval reward (sum)\"])\n",
    "plt.title(\"Return (test)\")\n",
    "plt.subplot(2, 2, 4)\n",
    "plt.plot(logs[\"eval step_count\"])\n",
    "plt.title(\"Max step count (test)\")\n",
    "plt.show()"
   ]
  }
 ],
 "metadata": {
  "kernelspec": {
   "display_name": "rlnavenv",
   "language": "python",
   "name": "rlnavenv"
  },
  "language_info": {
   "codemirror_mode": {
    "name": "ipython",
    "version": 3
   },
   "file_extension": ".py",
   "mimetype": "text/x-python",
   "name": "python",
   "nbconvert_exporter": "python",
   "pygments_lexer": "ipython3",
   "version": "3.8.18"
  }
 },
 "nbformat": 4,
 "nbformat_minor": 5
}
